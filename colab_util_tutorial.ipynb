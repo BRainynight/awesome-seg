{
  "nbformat": 4,
  "nbformat_minor": 0,
  "metadata": {
    "colab": {
      "name": "colab_util_tutorial.ipynb",
      "provenance": [],
      "private_outputs": true
    },
    "kernelspec": {
      "name": "python3",
      "display_name": "Python 3"
    }
  },
  "cells": [
    {
      "cell_type": "markdown",
      "metadata": {
        "id": "t577nrVdCimj",
        "colab_type": "text"
      },
      "source": [
        "使用 Joshua1989 所寫的 colab.util.py 稍微修改。  \n",
        "主要按照 [教學](https://gist.github.com/Joshua1989/dc7e60aa487430ea704a8cb3f2c5d6a6#file-colab_util-py)  \n",
        "\n",
        "這裡只迅速 Demo 重複 upload 同個檔案更新時的程式碼。"
      ]
    },
    {
      "cell_type": "code",
      "metadata": {
        "id": "IZjA5-X5-DUx",
        "colab_type": "code",
        "colab": {}
      },
      "source": [
        "from colab_util import *\n",
        "drive_handler = GoogleDriveHandler()\n",
        "local_path = \"/content/test.txt\"\n",
        "\n",
        "test_folder_id = drive_handler.create_folder('test_folder')\n",
        "\n",
        "drive_handler.upload(local_path, parent_path='test_folder')\n",
        "print(\"fine\")\n",
        "# drive_handler.list_folder(test_folder_id, max_depth=1)"
      ],
      "execution_count": 0,
      "outputs": []
    },
    {
      "cell_type": "code",
      "metadata": {
        "id": "1qsZA6KY-DRz",
        "colab_type": "code",
        "colab": {}
      },
      "source": [
        ""
      ],
      "execution_count": 0,
      "outputs": []
    }
  ]
}